{
  "nbformat": 4,
  "nbformat_minor": 0,
  "metadata": {
    "colab": {
      "provenance": [],
      "authorship_tag": "ABX9TyOkblq9vvrwl7hz+3Gb2hO0",
      "include_colab_link": true
    },
    "kernelspec": {
      "name": "python3",
      "display_name": "Python 3"
    },
    "language_info": {
      "name": "python"
    }
  },
  "cells": [
    {
      "cell_type": "markdown",
      "metadata": {
        "id": "view-in-github",
        "colab_type": "text"
      },
      "source": [
        "<a href=\"https://colab.research.google.com/github/ayowasco/brackets/blob/master/Dissertation_Code_Final.ipynb\" target=\"_parent\"><img src=\"https://colab.research.google.com/assets/colab-badge.svg\" alt=\"Open In Colab\"/></a>"
      ]
    },
    {
      "cell_type": "code",
      "execution_count": null,
      "metadata": {
        "id": "Z8cOnahJnW-G"
      },
      "outputs": [],
      "source": [
        "import pandas as pd\n",
        "import numpy as np\n",
        "\n",
        "# Model Libraries\n",
        "from sklearn.ensemble import RandomForestClassifier\n",
        "from xgboost import XGBClassifier\n",
        "from lightgbm import LGBMClassifier\n",
        "from catboost import CatBoostClassifier\n",
        "from sklearn.svm import SVC\n",
        "from sklearn.neural_network import MLPClassifier\n",
        "\n",
        "# Model Evaluation\n",
        "from sklearn.model_selection import train_test_split, cross_val_score, GridSearchCV\n",
        "from sklearn.metrics import classification_report, confusion_matrix, accuracy_score, precision_score, recall_score, f1_score\n",
        "\n",
        "# Ignore warnings\n",
        "import warnings\n",
        "warnings.filterwarnings('ignore')\n"
      ]
    },
    {
      "cell_type": "code",
      "source": [],
      "metadata": {
        "id": "ty0hJQ0QB32w"
      },
      "execution_count": null,
      "outputs": []
    },
    {
      "cell_type": "code",
      "source": [
        "# LOAD AND PREPROCESS DATA\n",
        "\n",
        "# Load the dataset\n",
        "data = pd.read_csv('/mnt/data/engineered_dataset.csv')\n",
        "\n",
        "# Identify features and target variable\n",
        "X = data.drop('Target', axis=1)\n",
        "y = data['Target']\n",
        "\n",
        "# Handle missing values\n",
        "X = X.fillna(X.median())\n",
        "\n",
        "# Feature scaling\n",
        "from sklearn.preprocessing import StandardScaler\n",
        "scaler = StandardScaler()\n",
        "X_scaled = scaler.fit_transform(X)\n"
      ],
      "metadata": {
        "id": "H2eX8KZKB4Dw"
      },
      "execution_count": null,
      "outputs": []
    },
    {
      "cell_type": "code",
      "source": [],
      "metadata": {
        "id": "UPYET4LrCCH9"
      },
      "execution_count": null,
      "outputs": []
    },
    {
      "cell_type": "code",
      "source": [
        "# sPLITING DATA INTO TRAINING AND TESTING\n",
        "\n",
        "# Split the data\n",
        "X_train_scaled, X_test_scaled, y_train, y_test = train_test_split(X_scaled, y, test_size=0.2, random_state=42, stratify=y)\n",
        "X_train, X_test, _, _ = train_test_split(X, y, test_size=0.2, random_state=42, stratify=y)\n"
      ],
      "metadata": {
        "id": "hO3n65NRCCdF"
      },
      "execution_count": null,
      "outputs": []
    },
    {
      "cell_type": "code",
      "source": [],
      "metadata": {
        "id": "u4Pz-dOQCN7h"
      },
      "execution_count": null,
      "outputs": []
    },
    {
      "cell_type": "code",
      "source": [
        "# INITIALIZE AND TRAIN MULTIPLE MODELS\n",
        "\n",
        "# Initialize models with default parameters\n",
        "models = {\n",
        "    'Random Forest': RandomForestClassifier(random_state=42),\n",
        "    'XGBoost': XGBClassifier(use_label_encoder=False, eval_metric='mlogloss', random_state=42),\n",
        "    'LightGBM': LGBMClassifier(random_state=42),\n",
        "    'CatBoost': CatBoostClassifier(verbose=0, random_state=42),\n",
        "    'SVM': SVC(probability=True, random_state=42),\n",
        "    'MLP': MLPClassifier(random_state=42)\n",
        "}\n",
        "\n",
        "# Function to train and evaluate models\n",
        "def evaluate_model(model, X_tr, X_te, y_tr, y_te):\n",
        "    model.fit(X_tr, y_tr)\n",
        "    y_pred = model.predict(X_te)\n",
        "    accuracy = accuracy_score(y_te, y_pred)\n",
        "    precision = precision_score(y_te, y_pred, average='weighted')\n",
        "    recall = recall_score(y_te, y_pred, average='weighted')\n",
        "    f1 = f1_score(y_te, y_pred, average='weighted')\n",
        "    return accuracy, precision, recall, f1\n",
        "\n",
        "# Evaluate all models\n",
        "results = {}\n",
        "for name, model in models.items():\n",
        "    if name in ['SVM', 'MLP']:\n",
        "        acc, prec, rec, f1 = evaluate_model(model, X_train_scaled, X_test_scaled, y_train, y_test)\n",
        "    else:\n",
        "        acc, prec, rec, f1 = evaluate_model(model, X_train, X_test, y_train, y_test)\n",
        "    results[name] = {'Accuracy': acc, 'Precision': prec, 'Recall': rec, 'F1 Score': f1}\n",
        "\n",
        "# Display results\n",
        "results_df = pd.DataFrame(results).T\n",
        "print(results_df.sort_values(by='F1 Score', ascending=False))\n"
      ],
      "metadata": {
        "id": "Yqs2PxeBCOKn"
      },
      "execution_count": null,
      "outputs": []
    },
    {
      "cell_type": "code",
      "source": [],
      "metadata": {
        "id": "z3ghk7z-CbD2"
      },
      "execution_count": null,
      "outputs": []
    },
    {
      "cell_type": "code",
      "source": [
        "# Hyperparameter Tuning for CatBoost, XGBoost, and LightGBM\n",
        " #CATBOOST\n",
        "\n",
        "catboost_param_grid = {\n",
        "    'iterations': [100, 200],\n",
        "    'learning_rate': [0.01, 0.1],\n",
        "    'depth': [4, 6, 8],\n",
        "    'l2_leaf_reg': [1, 3, 5]\n",
        "}\n",
        "\n",
        "catboost_model = CatBoostClassifier(random_state=42, verbose=0)\n",
        "catboost_grid = GridSearchCV(estimator=catboost_model,\n",
        "                             param_grid=catboost_param_grid,\n",
        "                             cv=3,\n",
        "                             scoring='f1_weighted',\n",
        "                             n_jobs=-1)\n",
        "catboost_grid.fit(X_train, y_train)\n",
        "catboost_best = catboost_grid.best_estimator_\n",
        "\n",
        "print(\"Best Parameters for CatBoost:\", catboost_grid.best_params_)\n",
        "print(\"Best F1 Score for CatBoost:\", catboost_grid.best_score_)\n",
        "\n",
        "y_pred_catboost = catboost_best.predict(X_test)\n",
        "catboost_test_f1 = f1_score(y_test, y_pred_catboost, average='weighted')\n",
        "print(\"Test F1 Score for CatBoost:\", catboost_test_f1)\n"
      ],
      "metadata": {
        "id": "vRGfyHmcCbRu"
      },
      "execution_count": null,
      "outputs": []
    },
    {
      "cell_type": "code",
      "source": [],
      "metadata": {
        "id": "2AR1BH7qCsRa"
      },
      "execution_count": null,
      "outputs": []
    },
    {
      "cell_type": "code",
      "source": [
        "# XGBOOST\n",
        "\n",
        "xgboost_param_grid = {\n",
        "    'n_estimators': [100, 200],\n",
        "    'learning_rate': [0.01, 0.1],\n",
        "    'max_depth': [4, 6, 8],\n",
        "    'subsample': [0.7, 1],\n",
        "    'colsample_bytree': [0.7, 1]\n",
        "}\n",
        "\n",
        "xgboost_model = XGBClassifier(use_label_encoder=False, eval_metric='mlogloss', random_state=42)\n",
        "xgboost_grid = GridSearchCV(estimator=xgboost_model,\n",
        "                            param_grid=xgboost_param_grid,\n",
        "                            cv=3,\n",
        "                            scoring='f1_weighted',\n",
        "                            n_jobs=-1)\n",
        "xgboost_grid.fit(X_train, y_train)\n",
        "xgboost_best = xgboost_grid.best_estimator_\n",
        "\n",
        "print(\"Best Parameters for XGBoost:\", xgboost_grid.best_params_)\n",
        "print(\"Best F1 Score for XGBoost:\", xgboost_grid.best_score_)\n",
        "\n",
        "y_pred_xgboost = xgboost_best.predict(X_test)\n",
        "xgboost_test_f1 = f1_score(y_test, y_pred_xgboost, average='weighted')\n",
        "print(\"Test F1 Score for XGBoost:\", xgboost_test_f1)\n"
      ],
      "metadata": {
        "id": "OQS69KM8CsVm"
      },
      "execution_count": null,
      "outputs": []
    },
    {
      "cell_type": "code",
      "source": [],
      "metadata": {
        "id": "BVJHTU7PC5lg"
      },
      "execution_count": null,
      "outputs": []
    },
    {
      "cell_type": "code",
      "source": [
        "# LIGHTBOOST\n",
        "\n",
        "lightgbm_param_grid = {\n",
        "    'n_estimators': [100, 200],\n",
        "    'learning_rate': [0.01, 0.1],\n",
        "    'num_leaves': [31, 50],\n",
        "    'max_depth': [4, 6, 8],\n",
        "    'subsample': [0.7, 1],\n",
        "    'colsample_bytree': [0.7, 1]\n",
        "}\n",
        "\n",
        "lightgbm_model = LGBMClassifier(random_state=42)\n",
        "lightgbm_grid = GridSearchCV(estimator=lightgbm_model,\n",
        "                             param_grid=lightgbm_param_grid,\n",
        "                             cv=3,\n",
        "                             scoring='f1_weighted',\n",
        "                             n_jobs=-1)\n",
        "lightgbm_grid.fit(X_train, y_train)\n",
        "lightgbm_best = lightgbm_grid.best_estimator_\n",
        "\n",
        "print(\"Best Parameters for LightGBM:\", lightgbm_grid.best_params_)\n",
        "print(\"Best F1 Score for LightGBM:\", lightgbm_grid.best_score_)\n",
        "\n",
        "y_pred_lightgbm = lightgbm_best.predict(X_test)\n",
        "lightgbm_test_f1 = f1_score(y_test, y_pred_lightgbm, average='weighted')\n",
        "print(\"Test F1 Score for LightGBM:\", lightgbm_test_f1)\n"
      ],
      "metadata": {
        "id": "mmw962oBC5tl"
      },
      "execution_count": null,
      "outputs": []
    },
    {
      "cell_type": "code",
      "source": [],
      "metadata": {
        "id": "gKC3qEAaDEUx"
      },
      "execution_count": null,
      "outputs": []
    },
    {
      "cell_type": "code",
      "source": [
        "# EVALUATING CONFUSION METRICS\n",
        "\n",
        "# Confusion Matrix for CatBoost\n",
        "conf_matrix = confusion_matrix(y_test, y_pred_catboost)\n",
        "import seaborn as sns\n",
        "import matplotlib.pyplot as plt\n",
        "\n",
        "sns.heatmap(conf_matrix, annot=True, fmt='d', cmap='Blues')\n",
        "plt.title('Confusion Matrix - CatBoost')\n",
        "plt.xlabel('Predicted')\n",
        "plt.ylabel('Actual')\n",
        "plt.show()\n"
      ],
      "metadata": {
        "id": "7TTphXpZDEhw"
      },
      "execution_count": null,
      "outputs": []
    },
    {
      "cell_type": "code",
      "source": [],
      "metadata": {
        "id": "Yz2BNBy7DNsA"
      },
      "execution_count": null,
      "outputs": []
    },
    {
      "cell_type": "code",
      "source": [
        "# FEATURE IMPORTANCE ANALYSIS\n",
        "\n",
        "# Feature importance for CatBoost\n",
        "feature_importances = catboost_best.get_feature_importance()\n",
        "feature_names = X.columns\n",
        "fi_df = pd.DataFrame({'Feature': feature_names, 'Importance': feature_importances})\n",
        "fi_df = fi_df.sort_values(by='Importance', ascending=False)\n",
        "print(fi_df.head(10))\n"
      ],
      "metadata": {
        "id": "OpPJpkKRDNvg"
      },
      "execution_count": null,
      "outputs": []
    },
    {
      "cell_type": "code",
      "source": [],
      "metadata": {
        "id": "EBf0YqXXDZUS"
      },
      "execution_count": null,
      "outputs": []
    },
    {
      "cell_type": "code",
      "source": [
        "FINAL MODEL EVALUATION AND CONCLUSION\n",
        "\n",
        "\n",
        "# Compile and compare final results for CatBoost, XGBoost, and LightGBM\n",
        "tuned_results = {\n",
        "    'CatBoost': {\n",
        "        'Best CV F1 Score': catboost_grid.best_score_,\n",
        "        'Test F1 Score': catboost_test_f1,\n",
        "        'Best Parameters': catboost_grid.best_params_\n",
        "    },\n",
        "    'XGBoost': {\n",
        "        'Best CV F1 Score': xgboost_grid.best_score_,\n",
        "        'Test F1 Score': xgboost_test_f1,\n",
        "        'Best Parameters': xgboost_grid.best_params_\n",
        "    },\n",
        "    'LightGBM': {\n",
        "        'Best CV F1 Score': lightgbm_grid.best_score_,\n",
        "        'Test F1 Score': lightgbm_test_f1,\n",
        "        'Best Parameters': lightgbm_grid.best_params_\n",
        "    }\n",
        "}\n",
        "\n",
        "tuned_results_df = pd.DataFrame(tuned_results).T\n",
        "print(tuned_results_df)\n"
      ],
      "metadata": {
        "id": "LrlpLNIFDZiD"
      },
      "execution_count": null,
      "outputs": []
    }
  ]
}
{
  "nbformat": 4,
  "nbformat_minor": 0,
  "metadata": {
    "colab": {
      "provenance": [],
      "authorship_tag": "ABX9TyMWb1JZP+cEoj7fgiEQyRw1",
      "include_colab_link": true
    },
    "kernelspec": {
      "name": "python3",
      "display_name": "Python 3"
    },
    "language_info": {
      "name": "python"
    }
  },
  "cells": [
    {
      "cell_type": "markdown",
      "metadata": {
        "id": "view-in-github",
        "colab_type": "text"
      },
      "source": [
        "<a href=\"https://colab.research.google.com/github/ayowasco/brackets/blob/master/Dissertation_Code_Final2.ipynb\" target=\"_parent\"><img src=\"https://colab.research.google.com/assets/colab-badge.svg\" alt=\"Open In Colab\"/></a>"
      ]
    },
    {
      "cell_type": "code",
      "execution_count": 5,
      "metadata": {
        "id": "Z8cOnahJnW-G",
        "colab": {
          "base_uri": "https://localhost:8080/"
        },
        "outputId": "e978fc53-37ae-4144-ea28-396c70aed4bb"
      },
      "outputs": [
        {
          "output_type": "stream",
          "name": "stdout",
          "text": [
            "   Marital status  Application mode  Application order  Course  \\\n",
            "0               1                 8                  5       2   \n",
            "1               1                 6                  1      11   \n",
            "2               1                 1                  5       5   \n",
            "3               1                 8                  2      15   \n",
            "4               2                12                  1       3   \n",
            "\n",
            "   Daytime/evening attendance  Previous qualification  Nationality  \\\n",
            "0                           1                       1            1   \n",
            "1                           1                       1            1   \n",
            "2                           1                       1            1   \n",
            "3                           1                       1            1   \n",
            "4                           0                       1            1   \n",
            "\n",
            "   Mother's qualification  Father's qualification  Mother's occupation  ...  \\\n",
            "0                      13                      10                    6  ...   \n",
            "1                       1                       3                    4  ...   \n",
            "2                      22                      27                   10  ...   \n",
            "3                      23                      27                    6  ...   \n",
            "4                      22                      28                   10  ...   \n",
            "\n",
            "   Curricular units 2nd sem (credited)  Curricular units 2nd sem (enrolled)  \\\n",
            "0                                    0                                    0   \n",
            "1                                    0                                    6   \n",
            "2                                    0                                    6   \n",
            "3                                    0                                    6   \n",
            "4                                    0                                    6   \n",
            "\n",
            "   Curricular units 2nd sem (evaluations)  \\\n",
            "0                                       0   \n",
            "1                                       6   \n",
            "2                                       0   \n",
            "3                                      10   \n",
            "4                                       6   \n",
            "\n",
            "   Curricular units 2nd sem (approved)  Curricular units 2nd sem (grade)  \\\n",
            "0                                    0                          0.000000   \n",
            "1                                    6                         13.666667   \n",
            "2                                    0                          0.000000   \n",
            "3                                    5                         12.400000   \n",
            "4                                    6                         13.000000   \n",
            "\n",
            "   Curricular units 2nd sem (without evaluations)  Unemployment rate  \\\n",
            "0                                               0               10.8   \n",
            "1                                               0               13.9   \n",
            "2                                               0               10.8   \n",
            "3                                               0                9.4   \n",
            "4                                               0               13.9   \n",
            "\n",
            "   Inflation rate   GDP    Target  \n",
            "0             1.4  1.74   Dropout  \n",
            "1            -0.3  0.79  Graduate  \n",
            "2             1.4  1.74   Dropout  \n",
            "3            -0.8 -3.12  Graduate  \n",
            "4            -0.3  0.79  Graduate  \n",
            "\n",
            "[5 rows x 35 columns]\n",
            "Raw data has been cleaned and saved as 'engineered_dataset.csv'.\n"
          ]
        }
      ],
      "source": [
        "import pandas as pd\n",
        "\n",
        "# Load the raw dataset\n",
        "raw_data = pd.read_csv('dataset.csv')\n",
        "\n",
        "# Display the first few rows\n",
        "print(raw_data.head())\n",
        "\n",
        "# Save the engineered dataset after preprocessing (if applicable)\n",
        "# For example, simple preprocessing:\n",
        "cleaned_data = raw_data.dropna()  # Example: Dropping missing values\n",
        "cleaned_data.to_csv('engineered_dataset.csv', index=False)\n",
        "\n",
        "print(\"Raw data has been cleaned and saved as 'engineered_dataset.csv'.\")\n"
      ]
    },
    {
      "cell_type": "code",
      "source": [],
      "metadata": {
        "id": "CFzob6LToBhp"
      },
      "execution_count": null,
      "outputs": []
    },
    {
      "cell_type": "code",
      "source": [
        "import pandas as pd\n",
        "import numpy as np\n",
        "\n",
        "# Model Libraries\n",
        "from sklearn.ensemble import RandomForestClassifier\n",
        "from xgboost import XGBClassifier\n",
        "from lightgbm import LGBMClassifier\n",
        "from catboost import CatBoostClassifier\n",
        "from sklearn.svm import SVC\n",
        "from sklearn.neural_network import MLPClassifier\n",
        "\n",
        "# Model Evaluation\n",
        "from sklearn.model_selection import train_test_split, cross_val_score, GridSearchCV\n",
        "from sklearn.metrics import classification_report, confusion_matrix, accuracy_score, precision_score, recall_score, f1_score\n",
        "\n",
        "# Ignore warnings\n",
        "import warnings\n",
        "warnings.filterwarnings('ignore')\n"
      ],
      "metadata": {
        "colab": {
          "base_uri": "https://localhost:8080/",
          "height": 506
        },
        "id": "YlH_A8UyoF4O",
        "outputId": "37eb4426-b03b-4bf8-86cc-6f9fbc2bdbcb"
      },
      "execution_count": 6,
      "outputs": [
        {
          "output_type": "stream",
          "name": "stderr",
          "text": [
            "/usr/local/lib/python3.10/dist-packages/dask/dataframe/__init__.py:42: FutureWarning: \n",
            "Dask dataframe query planning is disabled because dask-expr is not installed.\n",
            "\n",
            "You can install it with `pip install dask[dataframe]` or `conda install dask`.\n",
            "This will raise in a future version.\n",
            "\n",
            "  warnings.warn(msg, FutureWarning)\n"
          ]
        },
        {
          "output_type": "error",
          "ename": "ModuleNotFoundError",
          "evalue": "No module named 'catboost'",
          "traceback": [
            "\u001b[0;31m---------------------------------------------------------------------------\u001b[0m",
            "\u001b[0;31mModuleNotFoundError\u001b[0m                       Traceback (most recent call last)",
            "\u001b[0;32m<ipython-input-6-ad8f731afb31>\u001b[0m in \u001b[0;36m<cell line: 8>\u001b[0;34m()\u001b[0m\n\u001b[1;32m      6\u001b[0m \u001b[0;32mfrom\u001b[0m \u001b[0mxgboost\u001b[0m \u001b[0;32mimport\u001b[0m \u001b[0mXGBClassifier\u001b[0m\u001b[0;34m\u001b[0m\u001b[0;34m\u001b[0m\u001b[0m\n\u001b[1;32m      7\u001b[0m \u001b[0;32mfrom\u001b[0m \u001b[0mlightgbm\u001b[0m \u001b[0;32mimport\u001b[0m \u001b[0mLGBMClassifier\u001b[0m\u001b[0;34m\u001b[0m\u001b[0;34m\u001b[0m\u001b[0m\n\u001b[0;32m----> 8\u001b[0;31m \u001b[0;32mfrom\u001b[0m \u001b[0mcatboost\u001b[0m \u001b[0;32mimport\u001b[0m \u001b[0mCatBoostClassifier\u001b[0m\u001b[0;34m\u001b[0m\u001b[0;34m\u001b[0m\u001b[0m\n\u001b[0m\u001b[1;32m      9\u001b[0m \u001b[0;32mfrom\u001b[0m \u001b[0msklearn\u001b[0m\u001b[0;34m.\u001b[0m\u001b[0msvm\u001b[0m \u001b[0;32mimport\u001b[0m \u001b[0mSVC\u001b[0m\u001b[0;34m\u001b[0m\u001b[0;34m\u001b[0m\u001b[0m\n\u001b[1;32m     10\u001b[0m \u001b[0;32mfrom\u001b[0m \u001b[0msklearn\u001b[0m\u001b[0;34m.\u001b[0m\u001b[0mneural_network\u001b[0m \u001b[0;32mimport\u001b[0m \u001b[0mMLPClassifier\u001b[0m\u001b[0;34m\u001b[0m\u001b[0;34m\u001b[0m\u001b[0m\n",
            "\u001b[0;31mModuleNotFoundError\u001b[0m: No module named 'catboost'",
            "",
            "\u001b[0;31m---------------------------------------------------------------------------\u001b[0;32m\nNOTE: If your import is failing due to a missing package, you can\nmanually install dependencies using either !pip or !apt.\n\nTo view examples of installing some common dependencies, click the\n\"Open Examples\" button below.\n\u001b[0;31m---------------------------------------------------------------------------\u001b[0m\n"
          ],
          "errorDetails": {
            "actions": [
              {
                "action": "open_url",
                "actionText": "Open Examples",
                "url": "/notebooks/snippets/importing_libraries.ipynb"
              }
            ]
          }
        }
      ]
    },
    {
      "cell_type": "code",
      "source": [],
      "metadata": {
        "id": "ty0hJQ0QB32w"
      },
      "execution_count": null,
      "outputs": []
    },
    {
      "cell_type": "code",
      "source": [
        "# LOAD AND PREPROCESS DATA\n",
        "\n",
        "# Load the dataset\n",
        "data = pd.read_csv('engineered_dataset.csv')\n",
        "\n",
        "# Identify features and target variable\n",
        "X = data.drop('Target', axis=1)\n",
        "y = data['Target']\n",
        "\n",
        "# Handle missing values\n",
        "X = X.fillna(X.median())\n",
        "\n",
        "# Feature scaling\n",
        "from sklearn.preprocessing import StandardScaler\n",
        "scaler = StandardScaler()\n",
        "X_scaled = scaler.fit_transform(X)\n"
      ],
      "metadata": {
        "id": "H2eX8KZKB4Dw"
      },
      "execution_count": 9,
      "outputs": []
    },
    {
      "cell_type": "code",
      "source": [],
      "metadata": {
        "id": "UPYET4LrCCH9"
      },
      "execution_count": null,
      "outputs": []
    },
    {
      "cell_type": "code",
      "source": [
        "# sPLITING DATA INTO TRAINING AND TESTING\n",
        "\n",
        "# Split the data\n",
        "X_train_scaled, X_test_scaled, y_train, y_test = train_test_split(X_scaled, y, test_size=0.2, random_state=42, stratify=y)\n",
        "X_train, X_test, _, _ = train_test_split(X, y, test_size=0.2, random_state=42, stratify=y)\n"
      ],
      "metadata": {
        "id": "hO3n65NRCCdF"
      },
      "execution_count": null,
      "outputs": []
    },
    {
      "cell_type": "code",
      "source": [],
      "metadata": {
        "id": "u4Pz-dOQCN7h"
      },
      "execution_count": null,
      "outputs": []
    },
    {
      "cell_type": "code",
      "source": [
        "# INITIALIZE AND TRAIN MULTIPLE MODELS\n",
        "\n",
        "# Initialize models with default parameters\n",
        "models = {\n",
        "    'Random Forest': RandomForestClassifier(random_state=42),\n",
        "    'XGBoost': XGBClassifier(use_label_encoder=False, eval_metric='mlogloss', random_state=42),\n",
        "    'LightGBM': LGBMClassifier(random_state=42),\n",
        "    'CatBoost': CatBoostClassifier(verbose=0, random_state=42),\n",
        "    'SVM': SVC(probability=True, random_state=42),\n",
        "    'MLP': MLPClassifier(random_state=42)\n",
        "}\n",
        "\n",
        "# Function to train and evaluate models\n",
        "def evaluate_model(model, X_tr, X_te, y_tr, y_te):\n",
        "    model.fit(X_tr, y_tr)\n",
        "    y_pred = model.predict(X_te)\n",
        "    accuracy = accuracy_score(y_te, y_pred)\n",
        "    precision = precision_score(y_te, y_pred, average='weighted')\n",
        "    recall = recall_score(y_te, y_pred, average='weighted')\n",
        "    f1 = f1_score(y_te, y_pred, average='weighted')\n",
        "    return accuracy, precision, recall, f1\n",
        "\n",
        "# Evaluate all models\n",
        "results = {}\n",
        "for name, model in models.items():\n",
        "    if name in ['SVM', 'MLP']:\n",
        "        acc, prec, rec, f1 = evaluate_model(model, X_train_scaled, X_test_scaled, y_train, y_test)\n",
        "    else:\n",
        "        acc, prec, rec, f1 = evaluate_model(model, X_train, X_test, y_train, y_test)\n",
        "    results[name] = {'Accuracy': acc, 'Precision': prec, 'Recall': rec, 'F1 Score': f1}\n",
        "\n",
        "# Display results\n",
        "results_df = pd.DataFrame(results).T\n",
        "print(results_df.sort_values(by='F1 Score', ascending=False))\n"
      ],
      "metadata": {
        "colab": {
          "base_uri": "https://localhost:8080/",
          "height": 211
        },
        "id": "Yqs2PxeBCOKn",
        "outputId": "5aae9c31-7cfe-44e6-fd89-43cff52ef84b"
      },
      "execution_count": 10,
      "outputs": [
        {
          "output_type": "error",
          "ename": "NameError",
          "evalue": "name 'CatBoostClassifier' is not defined",
          "traceback": [
            "\u001b[0;31m---------------------------------------------------------------------------\u001b[0m",
            "\u001b[0;31mNameError\u001b[0m                                 Traceback (most recent call last)",
            "\u001b[0;32m<ipython-input-10-6a87f0a08e71>\u001b[0m in \u001b[0;36m<cell line: 5>\u001b[0;34m()\u001b[0m\n\u001b[1;32m      6\u001b[0m     \u001b[0;34m'XGBoost'\u001b[0m\u001b[0;34m:\u001b[0m \u001b[0mXGBClassifier\u001b[0m\u001b[0;34m(\u001b[0m\u001b[0muse_label_encoder\u001b[0m\u001b[0;34m=\u001b[0m\u001b[0;32mFalse\u001b[0m\u001b[0;34m,\u001b[0m \u001b[0meval_metric\u001b[0m\u001b[0;34m=\u001b[0m\u001b[0;34m'mlogloss'\u001b[0m\u001b[0;34m,\u001b[0m \u001b[0mrandom_state\u001b[0m\u001b[0;34m=\u001b[0m\u001b[0;36m42\u001b[0m\u001b[0;34m)\u001b[0m\u001b[0;34m,\u001b[0m\u001b[0;34m\u001b[0m\u001b[0;34m\u001b[0m\u001b[0m\n\u001b[1;32m      7\u001b[0m     \u001b[0;34m'LightGBM'\u001b[0m\u001b[0;34m:\u001b[0m \u001b[0mLGBMClassifier\u001b[0m\u001b[0;34m(\u001b[0m\u001b[0mrandom_state\u001b[0m\u001b[0;34m=\u001b[0m\u001b[0;36m42\u001b[0m\u001b[0;34m)\u001b[0m\u001b[0;34m,\u001b[0m\u001b[0;34m\u001b[0m\u001b[0;34m\u001b[0m\u001b[0m\n\u001b[0;32m----> 8\u001b[0;31m     \u001b[0;34m'CatBoost'\u001b[0m\u001b[0;34m:\u001b[0m \u001b[0mCatBoostClassifier\u001b[0m\u001b[0;34m(\u001b[0m\u001b[0mverbose\u001b[0m\u001b[0;34m=\u001b[0m\u001b[0;36m0\u001b[0m\u001b[0;34m,\u001b[0m \u001b[0mrandom_state\u001b[0m\u001b[0;34m=\u001b[0m\u001b[0;36m42\u001b[0m\u001b[0;34m)\u001b[0m\u001b[0;34m,\u001b[0m\u001b[0;34m\u001b[0m\u001b[0;34m\u001b[0m\u001b[0m\n\u001b[0m\u001b[1;32m      9\u001b[0m     \u001b[0;34m'SVM'\u001b[0m\u001b[0;34m:\u001b[0m \u001b[0mSVC\u001b[0m\u001b[0;34m(\u001b[0m\u001b[0mprobability\u001b[0m\u001b[0;34m=\u001b[0m\u001b[0;32mTrue\u001b[0m\u001b[0;34m,\u001b[0m \u001b[0mrandom_state\u001b[0m\u001b[0;34m=\u001b[0m\u001b[0;36m42\u001b[0m\u001b[0;34m)\u001b[0m\u001b[0;34m,\u001b[0m\u001b[0;34m\u001b[0m\u001b[0;34m\u001b[0m\u001b[0m\n\u001b[1;32m     10\u001b[0m     \u001b[0;34m'MLP'\u001b[0m\u001b[0;34m:\u001b[0m \u001b[0mMLPClassifier\u001b[0m\u001b[0;34m(\u001b[0m\u001b[0mrandom_state\u001b[0m\u001b[0;34m=\u001b[0m\u001b[0;36m42\u001b[0m\u001b[0;34m)\u001b[0m\u001b[0;34m\u001b[0m\u001b[0;34m\u001b[0m\u001b[0m\n",
            "\u001b[0;31mNameError\u001b[0m: name 'CatBoostClassifier' is not defined"
          ]
        }
      ]
    },
    {
      "cell_type": "code",
      "source": [],
      "metadata": {
        "id": "z3ghk7z-CbD2"
      },
      "execution_count": null,
      "outputs": []
    },
    {
      "cell_type": "code",
      "source": [
        "# Hyperparameter Tuning for CatBoost, XGBoost, and LightGBM\n",
        " #CATBOOST\n",
        "\n",
        "catboost_param_grid = {\n",
        "    'iterations': [100, 200],\n",
        "    'learning_rate': [0.01, 0.1],\n",
        "    'depth': [4, 6, 8],\n",
        "    'l2_leaf_reg': [1, 3, 5]\n",
        "}\n",
        "\n",
        "catboost_model = CatBoostClassifier(random_state=42, verbose=0)\n",
        "catboost_grid = GridSearchCV(estimator=catboost_model,\n",
        "                             param_grid=catboost_param_grid,\n",
        "                             cv=3,\n",
        "                             scoring='f1_weighted',\n",
        "                             n_jobs=-1)\n",
        "catboost_grid.fit(X_train, y_train)\n",
        "catboost_best = catboost_grid.best_estimator_\n",
        "\n",
        "print(\"Best Parameters for CatBoost:\", catboost_grid.best_params_)\n",
        "print(\"Best F1 Score for CatBoost:\", catboost_grid.best_score_)\n",
        "\n",
        "y_pred_catboost = catboost_best.predict(X_test)\n",
        "catboost_test_f1 = f1_score(y_test, y_pred_catboost, average='weighted')\n",
        "print(\"Test F1 Score for CatBoost:\", catboost_test_f1)\n"
      ],
      "metadata": {
        "id": "vRGfyHmcCbRu"
      },
      "execution_count": null,
      "outputs": []
    },
    {
      "cell_type": "code",
      "source": [],
      "metadata": {
        "id": "2AR1BH7qCsRa"
      },
      "execution_count": null,
      "outputs": []
    },
    {
      "cell_type": "code",
      "source": [
        "# XGBOOST\n",
        "\n",
        "xgboost_param_grid = {\n",
        "    'n_estimators': [100, 200],\n",
        "    'learning_rate': [0.01, 0.1],\n",
        "    'max_depth': [4, 6, 8],\n",
        "    'subsample': [0.7, 1],\n",
        "    'colsample_bytree': [0.7, 1]\n",
        "}\n",
        "\n",
        "xgboost_model = XGBClassifier(use_label_encoder=False, eval_metric='mlogloss', random_state=42)\n",
        "xgboost_grid = GridSearchCV(estimator=xgboost_model,\n",
        "                            param_grid=xgboost_param_grid,\n",
        "                            cv=3,\n",
        "                            scoring='f1_weighted',\n",
        "                            n_jobs=-1)\n",
        "xgboost_grid.fit(X_train, y_train)\n",
        "xgboost_best = xgboost_grid.best_estimator_\n",
        "\n",
        "print(\"Best Parameters for XGBoost:\", xgboost_grid.best_params_)\n",
        "print(\"Best F1 Score for XGBoost:\", xgboost_grid.best_score_)\n",
        "\n",
        "y_pred_xgboost = xgboost_best.predict(X_test)\n",
        "xgboost_test_f1 = f1_score(y_test, y_pred_xgboost, average='weighted')\n",
        "print(\"Test F1 Score for XGBoost:\", xgboost_test_f1)\n"
      ],
      "metadata": {
        "id": "OQS69KM8CsVm"
      },
      "execution_count": null,
      "outputs": []
    },
    {
      "cell_type": "code",
      "source": [],
      "metadata": {
        "id": "BVJHTU7PC5lg"
      },
      "execution_count": null,
      "outputs": []
    },
    {
      "cell_type": "code",
      "source": [
        "# LIGHTBOOST\n",
        "\n",
        "lightgbm_param_grid = {\n",
        "    'n_estimators': [100, 200],\n",
        "    'learning_rate': [0.01, 0.1],\n",
        "    'num_leaves': [31, 50],\n",
        "    'max_depth': [4, 6, 8],\n",
        "    'subsample': [0.7, 1],\n",
        "    'colsample_bytree': [0.7, 1]\n",
        "}\n",
        "\n",
        "lightgbm_model = LGBMClassifier(random_state=42)\n",
        "lightgbm_grid = GridSearchCV(estimator=lightgbm_model,\n",
        "                             param_grid=lightgbm_param_grid,\n",
        "                             cv=3,\n",
        "                             scoring='f1_weighted',\n",
        "                             n_jobs=-1)\n",
        "lightgbm_grid.fit(X_train, y_train)\n",
        "lightgbm_best = lightgbm_grid.best_estimator_\n",
        "\n",
        "print(\"Best Parameters for LightGBM:\", lightgbm_grid.best_params_)\n",
        "print(\"Best F1 Score for LightGBM:\", lightgbm_grid.best_score_)\n",
        "\n",
        "y_pred_lightgbm = lightgbm_best.predict(X_test)\n",
        "lightgbm_test_f1 = f1_score(y_test, y_pred_lightgbm, average='weighted')\n",
        "print(\"Test F1 Score for LightGBM:\", lightgbm_test_f1)\n"
      ],
      "metadata": {
        "id": "mmw962oBC5tl"
      },
      "execution_count": null,
      "outputs": []
    },
    {
      "cell_type": "code",
      "source": [],
      "metadata": {
        "id": "gKC3qEAaDEUx"
      },
      "execution_count": null,
      "outputs": []
    },
    {
      "cell_type": "code",
      "source": [
        "# EVALUATING CONFUSION METRICS\n",
        "\n",
        "# Confusion Matrix for CatBoost\n",
        "conf_matrix = confusion_matrix(y_test, y_pred_catboost)\n",
        "import seaborn as sns\n",
        "import matplotlib.pyplot as plt\n",
        "\n",
        "sns.heatmap(conf_matrix, annot=True, fmt='d', cmap='Blues')\n",
        "plt.title('Confusion Matrix - CatBoost')\n",
        "plt.xlabel('Predicted')\n",
        "plt.ylabel('Actual')\n",
        "plt.show()\n"
      ],
      "metadata": {
        "id": "7TTphXpZDEhw"
      },
      "execution_count": null,
      "outputs": []
    },
    {
      "cell_type": "code",
      "source": [],
      "metadata": {
        "id": "S_IlXtVHn8dD"
      },
      "execution_count": null,
      "outputs": []
    },
    {
      "cell_type": "code",
      "source": [],
      "metadata": {
        "id": "Yz2BNBy7DNsA"
      },
      "execution_count": null,
      "outputs": []
    },
    {
      "cell_type": "code",
      "source": [
        "# FEATURE IMPORTANCE ANALYSIS\n",
        "\n",
        "# Feature importance for CatBoost\n",
        "feature_importances = catboost_best.get_feature_importance()\n",
        "feature_names = X.columns\n",
        "fi_df = pd.DataFrame({'Feature': feature_names, 'Importance': feature_importances})\n",
        "fi_df = fi_df.sort_values(by='Importance', ascending=False)\n",
        "print(fi_df.head(10))\n"
      ],
      "metadata": {
        "id": "OpPJpkKRDNvg"
      },
      "execution_count": null,
      "outputs": []
    },
    {
      "cell_type": "code",
      "source": [],
      "metadata": {
        "id": "EBf0YqXXDZUS"
      },
      "execution_count": null,
      "outputs": []
    },
    {
      "cell_type": "code",
      "source": [
        "FINAL MODEL EVALUATION AND CONCLUSION\n",
        "\n",
        "\n",
        "# Compile and compare final results for CatBoost, XGBoost, and LightGBM\n",
        "tuned_results = {\n",
        "    'CatBoost': {\n",
        "        'Best CV F1 Score': catboost_grid.best_score_,\n",
        "        'Test F1 Score': catboost_test_f1,\n",
        "        'Best Parameters': catboost_grid.best_params_\n",
        "    },\n",
        "    'XGBoost': {\n",
        "        'Best CV F1 Score': xgboost_grid.best_score_,\n",
        "        'Test F1 Score': xgboost_test_f1,\n",
        "        'Best Parameters': xgboost_grid.best_params_\n",
        "    },\n",
        "    'LightGBM': {\n",
        "        'Best CV F1 Score': lightgbm_grid.best_score_,\n",
        "        'Test F1 Score': lightgbm_test_f1,\n",
        "        'Best Parameters': lightgbm_grid.best_params_\n",
        "    }\n",
        "}\n",
        "\n",
        "tuned_results_df = pd.DataFrame(tuned_results).T\n",
        "print(tuned_results_df)\n"
      ],
      "metadata": {
        "id": "LrlpLNIFDZiD"
      },
      "execution_count": null,
      "outputs": []
    },
    {
      "cell_type": "code",
      "source": [],
      "metadata": {
        "id": "fo-97iQa6k7F"
      },
      "execution_count": null,
      "outputs": []
    },
    {
      "cell_type": "code",
      "source": [
        "# ROC CURVE\n",
        "\n",
        "import matplotlib.pyplot as plt\n",
        "from sklearn.metrics import roc_curve, auc\n",
        "\n",
        "# Assuming y_test is your true labels and y_pred_prob is the predicted probabilities for the positive class\n",
        "y_pred_prob = catboost_best.predict_proba(X_test)[:, 1]\n",
        "\n",
        "# Compute ROC curve and ROC area\n",
        "fpr, tpr, thresholds = roc_curve(y_test, y_pred_prob, pos_label=1)\n",
        "roc_auc = auc(fpr, tpr)\n",
        "\n",
        "# Plot ROC curve\n",
        "plt.figure()\n",
        "plt.plot(fpr, tpr, color='darkorange', lw=2, label='ROC curve (area = %0.2f)' % roc_auc)\n",
        "plt.plot([0, 1], [0, 1], color='navy', lw=2, linestyle='--')\n",
        "plt.xlim([0.0, 1.0])\n",
        "plt.ylim([0.0, 1.05])\n",
        "plt.xlabel('False Positive Rate')\n",
        "plt.ylabel('True Positive Rate')\n",
        "plt.title('Receiver Operating Characteristic (ROC) Curve - CatBoost')\n",
        "plt.legend(loc=\"lower right\")\n",
        "plt.show()\n"
      ],
      "metadata": {
        "id": "k2dm_JHs6lM1"
      },
      "execution_count": null,
      "outputs": []
    },
    {
      "cell_type": "code",
      "source": [],
      "metadata": {
        "id": "28A-5Yrd8Z3P"
      },
      "execution_count": null,
      "outputs": []
    },
    {
      "cell_type": "code",
      "source": [
        "# ROC-CURVE INSTALL\n",
        "pip install catboost matplotlib scikit-learn\n"
      ],
      "metadata": {
        "id": "C5xV0YIJ8aD0"
      },
      "execution_count": null,
      "outputs": []
    },
    {
      "cell_type": "code",
      "source": [
        "# ROC-CURVE\n",
        "\n",
        "\n",
        "import matplotlib.pyplot as plt\n",
        "from sklearn.metrics import roc_curve, auc\n",
        "from catboost import CatBoostClassifier\n",
        "from sklearn.model_selection import train_test_split\n",
        "import numpy as np\n",
        "import pandas as pd\n",
        "\n",
        "# Example: Load your actual dataset instead of this simulated one\n",
        "data = pd.DataFrame({\n",
        "    'Feature1': np.random.rand(100),\n",
        "    'Feature2': np.random.rand(100),\n",
        "    'Target': np.random.choice([0, 1, 2], 100)\n",
        "})\n",
        "\n",
        "# Splitting the data\n",
        "X = data.drop('Target', axis=1)\n",
        "y = data['Target']\n",
        "X_train, X_test, y_train, y_test = train_test_split(X, y, test_size=0.2, random_state=42, stratify=y)\n",
        "\n",
        "# Train CatBoost model\n",
        "catboost_model = CatBoostClassifier(verbose=0, random_state=42)\n",
        "catboost_model.fit(X_train, y_train)\n",
        "\n",
        "# Predict probabilities for the test set\n",
        "y_pred_prob = catboost_model.predict_proba(X_test)[:, 1]  # Probability for class 1\n",
        "\n",
        "# Compute ROC curve and AUC\n",
        "fpr, tpr, thresholds = roc_curve(y_test, y_pred_prob, pos_label=1)\n",
        "roc_auc = auc(fpr, tpr)\n",
        "\n",
        "# Plotting the ROC curve\n",
        "plt.figure()\n",
        "plt.plot(fpr, tpr, color='darkorange', lw=2, label='ROC curve (area = %0.2f)' % roc_auc)\n",
        "plt.plot([0, 1], [0, 1], color='navy', lw=2, linestyle='--')\n",
        "plt.xlim([0.0, 1.0])\n",
        "plt.ylim([0.0, 1.05])\n",
        "plt.xlabel('False Positive Rate')\n",
        "plt.ylabel('True Positive Rate')\n",
        "plt.title('Receiver Operating Characteristic (ROC) Curve - CatBoost')\n",
        "plt.legend(loc=\"lower right\")\n",
        "plt.show()\n"
      ],
      "metadata": {
        "id": "5a-LAvrN8acD"
      },
      "execution_count": null,
      "outputs": []
    }
  ]
}